{
 "cells": [
  {
   "cell_type": "code",
   "execution_count": 1,
   "id": "92dea0fe-1dd0-4b62-a1cc-9974be87205c",
   "metadata": {},
   "outputs": [
    {
     "name": "stdout",
     "output_type": "stream",
     "text": [
      "TensorFlow version: 2.8.0\n"
     ]
    }
   ],
   "source": [
    "import seaborn as sns\n",
    "import matplotlib.pyplot as plt\n",
    "%matplotlib inline\n",
    "from sklearn.datasets import make_blobs\n",
    "import pandas as pd\n",
    "from sklearn.cluster import KMeans\n",
    "from sklearn.model_selection import train_test_split, GridSearchCV\n",
    "from sklearn.tree import DecisionTreeClassifier\n",
    "from sklearn.metrics import classification_report, confusion_matrix, plot_confusion_matrix, accuracy_score\n",
    "import numpy as np\n",
    "from sklearn.svm import SVC\n",
    "from sklearn import preprocessing\n",
    "import tensorflow as tf\n",
    "from tensorflow.keras.models import Sequential\n",
    "from tensorflow.keras.layers import Dense, Dropout, BatchNormalization\n",
    "from tensorflow.keras.wrappers.scikit_learn import KerasRegressor\n",
    "from sklearn.preprocessing import MinMaxScaler\n",
    "print(\"TensorFlow version:\", tf.__version__)"
   ]
  },
  {
   "cell_type": "code",
   "execution_count": 2,
   "id": "580be572-ae48-4fc6-83bc-036579291a9c",
   "metadata": {},
   "outputs": [],
   "source": [
    "df=pd.read_csv('data.csv')"
   ]
  },
  {
   "cell_type": "code",
   "execution_count": 3,
   "id": "e434c998-7baf-4d2c-9ee6-baec2ec58976",
   "metadata": {},
   "outputs": [
    {
     "data": {
      "text/html": [
       "<div>\n",
       "<style scoped>\n",
       "    .dataframe tbody tr th:only-of-type {\n",
       "        vertical-align: middle;\n",
       "    }\n",
       "\n",
       "    .dataframe tbody tr th {\n",
       "        vertical-align: top;\n",
       "    }\n",
       "\n",
       "    .dataframe thead th {\n",
       "        text-align: right;\n",
       "    }\n",
       "</style>\n",
       "<table border=\"1\" class=\"dataframe\">\n",
       "  <thead>\n",
       "    <tr style=\"text-align: right;\">\n",
       "      <th></th>\n",
       "      <th>confidence</th>\n",
       "      <th>currentSpeed</th>\n",
       "      <th>currentTravelTime</th>\n",
       "      <th>date_time</th>\n",
       "      <th>freeFlowSpeed</th>\n",
       "      <th>freeFlowTravelTime</th>\n",
       "      <th>latitude</th>\n",
       "      <th>local</th>\n",
       "      <th>longitude</th>\n",
       "      <th>transito</th>\n",
       "    </tr>\n",
       "  </thead>\n",
       "  <tbody>\n",
       "    <tr>\n",
       "      <th>0</th>\n",
       "      <td>1.00000</td>\n",
       "      <td>8</td>\n",
       "      <td>45</td>\n",
       "      <td>04-06-2022_17:50:01</td>\n",
       "      <td>8</td>\n",
       "      <td>45</td>\n",
       "      <td>41.546581</td>\n",
       "      <td>Avenida da Liberdade</td>\n",
       "      <td>-8.420194</td>\n",
       "      <td>0.000000</td>\n",
       "    </tr>\n",
       "    <tr>\n",
       "      <th>1</th>\n",
       "      <td>1.00000</td>\n",
       "      <td>47</td>\n",
       "      <td>137</td>\n",
       "      <td>04-06-2022_17:50:01</td>\n",
       "      <td>72</td>\n",
       "      <td>89</td>\n",
       "      <td>41.557563</td>\n",
       "      <td>Braga Parque</td>\n",
       "      <td>-8.407298</td>\n",
       "      <td>0.348794</td>\n",
       "    </tr>\n",
       "    <tr>\n",
       "      <th>2</th>\n",
       "      <td>1.00000</td>\n",
       "      <td>75</td>\n",
       "      <td>34</td>\n",
       "      <td>04-06-2022_17:50:01</td>\n",
       "      <td>75</td>\n",
       "      <td>34</td>\n",
       "      <td>41.541670</td>\n",
       "      <td>Centro comercial Minho Center</td>\n",
       "      <td>-8.402278</td>\n",
       "      <td>0.000000</td>\n",
       "    </tr>\n",
       "    <tr>\n",
       "      <th>3</th>\n",
       "      <td>1.00000</td>\n",
       "      <td>23</td>\n",
       "      <td>61</td>\n",
       "      <td>04-06-2022_17:50:01</td>\n",
       "      <td>36</td>\n",
       "      <td>39</td>\n",
       "      <td>41.548815</td>\n",
       "      <td>Estação de Comboios</td>\n",
       "      <td>-8.433624</td>\n",
       "      <td>0.360883</td>\n",
       "    </tr>\n",
       "    <tr>\n",
       "      <th>4</th>\n",
       "      <td>0.98902</td>\n",
       "      <td>24</td>\n",
       "      <td>160</td>\n",
       "      <td>04-06-2022_17:50:01</td>\n",
       "      <td>53</td>\n",
       "      <td>72</td>\n",
       "      <td>41.555693</td>\n",
       "      <td>Meliá</td>\n",
       "      <td>-8.399266</td>\n",
       "      <td>0.548585</td>\n",
       "    </tr>\n",
       "  </tbody>\n",
       "</table>\n",
       "</div>"
      ],
      "text/plain": [
       "   confidence  currentSpeed  currentTravelTime            date_time  \\\n",
       "0     1.00000             8                 45  04-06-2022_17:50:01   \n",
       "1     1.00000            47                137  04-06-2022_17:50:01   \n",
       "2     1.00000            75                 34  04-06-2022_17:50:01   \n",
       "3     1.00000            23                 61  04-06-2022_17:50:01   \n",
       "4     0.98902            24                160  04-06-2022_17:50:01   \n",
       "\n",
       "   freeFlowSpeed  freeFlowTravelTime   latitude  \\\n",
       "0              8                  45  41.546581   \n",
       "1             72                  89  41.557563   \n",
       "2             75                  34  41.541670   \n",
       "3             36                  39  41.548815   \n",
       "4             53                  72  41.555693   \n",
       "\n",
       "                           local  longitude  transito  \n",
       "0           Avenida da Liberdade  -8.420194  0.000000  \n",
       "1                   Braga Parque  -8.407298  0.348794  \n",
       "2  Centro comercial Minho Center  -8.402278  0.000000  \n",
       "3            Estação de Comboios  -8.433624  0.360883  \n",
       "4                          Meliá  -8.399266  0.548585  "
      ]
     },
     "execution_count": 3,
     "metadata": {},
     "output_type": "execute_result"
    }
   ],
   "source": [
    "df.head()"
   ]
  },
  {
   "cell_type": "code",
   "execution_count": 4,
   "id": "6b4c99fc-7fce-4ac6-aa1c-7f5ba162719b",
   "metadata": {},
   "outputs": [
    {
     "data": {
      "text/html": [
       "<div>\n",
       "<style scoped>\n",
       "    .dataframe tbody tr th:only-of-type {\n",
       "        vertical-align: middle;\n",
       "    }\n",
       "\n",
       "    .dataframe tbody tr th {\n",
       "        vertical-align: top;\n",
       "    }\n",
       "\n",
       "    .dataframe thead th {\n",
       "        text-align: right;\n",
       "    }\n",
       "</style>\n",
       "<table border=\"1\" class=\"dataframe\">\n",
       "  <thead>\n",
       "    <tr style=\"text-align: right;\">\n",
       "      <th></th>\n",
       "      <th>confidence</th>\n",
       "      <th>currentSpeed</th>\n",
       "      <th>currentTravelTime</th>\n",
       "      <th>freeFlowSpeed</th>\n",
       "      <th>freeFlowTravelTime</th>\n",
       "      <th>latitude</th>\n",
       "      <th>longitude</th>\n",
       "      <th>transito</th>\n",
       "    </tr>\n",
       "  </thead>\n",
       "  <tbody>\n",
       "    <tr>\n",
       "      <th>count</th>\n",
       "      <td>28100.000000</td>\n",
       "      <td>28100.000000</td>\n",
       "      <td>28100.000000</td>\n",
       "      <td>28100.000000</td>\n",
       "      <td>28100.000000</td>\n",
       "      <td>28100.000000</td>\n",
       "      <td>28100.000000</td>\n",
       "      <td>28100.000000</td>\n",
       "    </tr>\n",
       "    <tr>\n",
       "      <th>mean</th>\n",
       "      <td>0.992826</td>\n",
       "      <td>41.452705</td>\n",
       "      <td>64.676940</td>\n",
       "      <td>44.877936</td>\n",
       "      <td>57.142456</td>\n",
       "      <td>41.546615</td>\n",
       "      <td>-8.422473</td>\n",
       "      <td>0.090948</td>\n",
       "    </tr>\n",
       "    <tr>\n",
       "      <th>std</th>\n",
       "      <td>0.025151</td>\n",
       "      <td>21.444956</td>\n",
       "      <td>40.470082</td>\n",
       "      <td>20.134799</td>\n",
       "      <td>32.903344</td>\n",
       "      <td>0.009469</td>\n",
       "      <td>0.014963</td>\n",
       "      <td>0.183809</td>\n",
       "    </tr>\n",
       "    <tr>\n",
       "      <th>min</th>\n",
       "      <td>0.540000</td>\n",
       "      <td>1.000000</td>\n",
       "      <td>6.000000</td>\n",
       "      <td>6.000000</td>\n",
       "      <td>4.000000</td>\n",
       "      <td>41.527837</td>\n",
       "      <td>-8.446202</td>\n",
       "      <td>0.000000</td>\n",
       "    </tr>\n",
       "    <tr>\n",
       "      <th>25%</th>\n",
       "      <td>1.000000</td>\n",
       "      <td>24.000000</td>\n",
       "      <td>34.000000</td>\n",
       "      <td>37.000000</td>\n",
       "      <td>34.000000</td>\n",
       "      <td>41.541670</td>\n",
       "      <td>-8.433624</td>\n",
       "      <td>0.000000</td>\n",
       "    </tr>\n",
       "    <tr>\n",
       "      <th>50%</th>\n",
       "      <td>1.000000</td>\n",
       "      <td>42.000000</td>\n",
       "      <td>66.000000</td>\n",
       "      <td>42.000000</td>\n",
       "      <td>61.500000</td>\n",
       "      <td>41.547698</td>\n",
       "      <td>-8.424378</td>\n",
       "      <td>0.000000</td>\n",
       "    </tr>\n",
       "    <tr>\n",
       "      <th>75%</th>\n",
       "      <td>1.000000</td>\n",
       "      <td>58.000000</td>\n",
       "      <td>89.000000</td>\n",
       "      <td>58.000000</td>\n",
       "      <td>72.000000</td>\n",
       "      <td>41.555693</td>\n",
       "      <td>-8.407298</td>\n",
       "      <td>0.000000</td>\n",
       "    </tr>\n",
       "    <tr>\n",
       "      <th>max</th>\n",
       "      <td>1.000000</td>\n",
       "      <td>75.000000</td>\n",
       "      <td>568.000000</td>\n",
       "      <td>75.000000</td>\n",
       "      <td>131.000000</td>\n",
       "      <td>41.559359</td>\n",
       "      <td>-8.399266</td>\n",
       "      <td>0.929104</td>\n",
       "    </tr>\n",
       "  </tbody>\n",
       "</table>\n",
       "</div>"
      ],
      "text/plain": [
       "         confidence  currentSpeed  currentTravelTime  freeFlowSpeed  \\\n",
       "count  28100.000000  28100.000000       28100.000000   28100.000000   \n",
       "mean       0.992826     41.452705          64.676940      44.877936   \n",
       "std        0.025151     21.444956          40.470082      20.134799   \n",
       "min        0.540000      1.000000           6.000000       6.000000   \n",
       "25%        1.000000     24.000000          34.000000      37.000000   \n",
       "50%        1.000000     42.000000          66.000000      42.000000   \n",
       "75%        1.000000     58.000000          89.000000      58.000000   \n",
       "max        1.000000     75.000000         568.000000      75.000000   \n",
       "\n",
       "       freeFlowTravelTime      latitude     longitude      transito  \n",
       "count        28100.000000  28100.000000  28100.000000  28100.000000  \n",
       "mean            57.142456     41.546615     -8.422473      0.090948  \n",
       "std             32.903344      0.009469      0.014963      0.183809  \n",
       "min              4.000000     41.527837     -8.446202      0.000000  \n",
       "25%             34.000000     41.541670     -8.433624      0.000000  \n",
       "50%             61.500000     41.547698     -8.424378      0.000000  \n",
       "75%             72.000000     41.555693     -8.407298      0.000000  \n",
       "max            131.000000     41.559359     -8.399266      0.929104  "
      ]
     },
     "execution_count": 4,
     "metadata": {},
     "output_type": "execute_result"
    }
   ],
   "source": [
    "df.describe()"
   ]
  },
  {
   "cell_type": "code",
   "execution_count": 5,
   "id": "b4934ffc-b85c-47b6-b759-61278c118f16",
   "metadata": {},
   "outputs": [
    {
     "data": {
      "text/plain": [
       "Index(['confidence', 'currentSpeed', 'currentTravelTime', 'date_time',\n",
       "       'freeFlowSpeed', 'freeFlowTravelTime', 'latitude', 'local', 'longitude',\n",
       "       'transito'],\n",
       "      dtype='object')"
      ]
     },
     "execution_count": 5,
     "metadata": {},
     "output_type": "execute_result"
    }
   ],
   "source": [
    "df.columns"
   ]
  },
  {
   "cell_type": "code",
   "execution_count": 6,
   "id": "a653abdd-f240-4858-abfd-5b75a218e99d",
   "metadata": {},
   "outputs": [
    {
     "name": "stdout",
     "output_type": "stream",
     "text": [
      "<class 'pandas.core.frame.DataFrame'>\n",
      "RangeIndex: 28100 entries, 0 to 28099\n",
      "Data columns (total 10 columns):\n",
      " #   Column              Non-Null Count  Dtype  \n",
      "---  ------              --------------  -----  \n",
      " 0   confidence          28100 non-null  float64\n",
      " 1   currentSpeed        28100 non-null  int64  \n",
      " 2   currentTravelTime   28100 non-null  int64  \n",
      " 3   date_time           28100 non-null  object \n",
      " 4   freeFlowSpeed       28100 non-null  int64  \n",
      " 5   freeFlowTravelTime  28100 non-null  int64  \n",
      " 6   latitude            28100 non-null  float64\n",
      " 7   local               28100 non-null  object \n",
      " 8   longitude           28100 non-null  float64\n",
      " 9   transito            28100 non-null  float64\n",
      "dtypes: float64(4), int64(4), object(2)\n",
      "memory usage: 2.1+ MB\n"
     ]
    }
   ],
   "source": [
    "df.info()"
   ]
  },
  {
   "cell_type": "code",
   "execution_count": 7,
   "id": "a85e2135-0dc0-422d-babf-2284467c4b1b",
   "metadata": {},
   "outputs": [
    {
     "data": {
      "text/plain": [
       "confidence            28100\n",
       "currentSpeed          28100\n",
       "currentTravelTime     28100\n",
       "date_time             28100\n",
       "freeFlowSpeed         28100\n",
       "freeFlowTravelTime    28100\n",
       "latitude              28100\n",
       "local                 28100\n",
       "longitude             28100\n",
       "transito              28100\n",
       "dtype: int64"
      ]
     },
     "execution_count": 7,
     "metadata": {},
     "output_type": "execute_result"
    }
   ],
   "source": [
    "df.count()"
   ]
  },
  {
   "cell_type": "code",
   "execution_count": 8,
   "id": "2e66d102-eb09-4425-8287-83b46dc32820",
   "metadata": {},
   "outputs": [
    {
     "data": {
      "text/plain": [
       "<AxesSubplot:>"
      ]
     },
     "execution_count": 8,
     "metadata": {},
     "output_type": "execute_result"
    },
    {
     "data": {
      "image/png": "[encoded data removed]",
      "text/plain": [
       "<Figure size 432x288 with 1 Axes>"
      ]
     },
     "metadata": {
      "needs_background": "light"
     },
     "output_type": "display_data"
    }
   ],
   "source": [
    "#Verificar campos em falta ou falta de dados\n",
    "sns.heatmap(df.isnull(),yticklabels=False,cbar=False,cmap='viridis')"
   ]
  },
  {
   "cell_type": "code",
   "execution_count": 9,
   "id": "56c0787e-604f-4c5f-bc23-e1f3c7b95c09",
   "metadata": {},
   "outputs": [],
   "source": [
    "#sns.pairplot(df)"
   ]
  },
  {
   "cell_type": "code",
   "execution_count": 10,
   "id": "70505159-f8cf-4d18-88cd-8db38bb3c334",
   "metadata": {},
   "outputs": [
    {
     "data": {
      "text/plain": [
       "<AxesSubplot:>"
      ]
     },
     "execution_count": 10,
     "metadata": {},
     "output_type": "execute_result"
    },
    {
     "data": {
      "image/png": "[encoded data removed]",
      "text/plain": [
       "<Figure size 576x432 with 2 Axes>"
      ]
     },
     "metadata": {
      "needs_background": "light"
     },
     "output_type": "display_data"
    }
   ],
   "source": [
    "#Correlação\n",
    "corr_matrix=df.corr()\n",
    "f,ax= plt.subplots(figsize=(8,6))\n",
    "sns.heatmap(corr_matrix, vmin=-1, vmax=1, square=True, annot=True)"
   ]
  },
  {
   "cell_type": "markdown",
   "id": "21069bd2-ac84-481a-b8ef-c53632a223d2",
   "metadata": {},
   "source": [
    "TRATAMENTO DOS DADOS"
   ]
  },
  {
   "cell_type": "code",
   "execution_count": 11,
   "id": "e8c81e38-4a5c-4a95-bf7f-848f129a2af3",
   "metadata": {},
   "outputs": [],
   "source": [
    "#Dados inuteis\n",
    "#a latitude e longitude dos locais é sempre a mesma por isso acho que basta termos só o local, temos de normalizar o local depois\n",
    "df.drop(['latitude'],axis=1, inplace=True)\n",
    "df.drop(['longitude'],axis=1, inplace=True)\n",
    "#o mesmo se passa com o freeFlow, é sempre a mesma para o mesmo local e já temos o transito calculado, não nos interessa \n",
    "df.drop(['freeFlowSpeed'],axis=1, inplace=True)\n",
    "df.drop(['freeFlowTravelTime'],axis=1, inplace=True)"
   ]
  },
  {
   "cell_type": "code",
   "execution_count": 12,
   "id": "e7937e62-7a4d-408e-9c6e-b418a4eacfae",
   "metadata": {},
   "outputs": [
    {
     "name": "stdout",
     "output_type": "stream",
     "text": [
      "<class 'pandas.core.frame.DataFrame'>\n",
      "RangeIndex: 28100 entries, 0 to 28099\n",
      "Data columns (total 6 columns):\n",
      " #   Column             Non-Null Count  Dtype  \n",
      "---  ------             --------------  -----  \n",
      " 0   confidence         28100 non-null  float64\n",
      " 1   currentSpeed       28100 non-null  int64  \n",
      " 2   currentTravelTime  28100 non-null  int64  \n",
      " 3   date_time          28100 non-null  object \n",
      " 4   local              28100 non-null  object \n",
      " 5   transito           28100 non-null  float64\n",
      "dtypes: float64(2), int64(2), object(2)\n",
      "memory usage: 1.3+ MB\n"
     ]
    }
   ],
   "source": [
    "df.info()"
   ]
  },
  {
   "cell_type": "code",
   "execution_count": 13,
   "id": "1cb501aa-2a2e-4e20-adff-83f07ca92a7d",
   "metadata": {},
   "outputs": [
    {
     "data": {
      "text/plain": [
       "Int64Index([   42,    54,    68,    76,    77,   149,   228,   238,   239,\n",
       "              279,\n",
       "            ...\n",
       "            27229, 27259, 27318, 27319, 27333, 27348, 27357, 27359, 27388,\n",
       "            27498],\n",
       "           dtype='int64', length=1278)"
      ]
     },
     "execution_count": 13,
     "metadata": {},
     "output_type": "execute_result"
    }
   ],
   "source": [
    "#verificar dados com confiança abaixo da ideal (95%)\n",
    "low_confidence = df[ df['confidence'] < 0.95 ].index\n",
    "low_confidence"
   ]
  },
  {
   "cell_type": "code",
   "execution_count": 14,
   "id": "ac6ae343-7a78-45a7-a833-34eca5c6cb7e",
   "metadata": {},
   "outputs": [],
   "source": [
    "#devemos dropar as linhas com baixa confiança para podermos ter os melhores resultados\n",
    "df.drop(low_confidence , inplace=True)\n",
    "#e podemos já dropar a coluna da confiança que já não nos vai servir para mais nada\n",
    "df.drop(['confidence'],axis=1, inplace=True)"
   ]
  },
  {
   "cell_type": "code",
   "execution_count": 15,
   "id": "64dada18-a80b-4251-86e1-a35fd3a936c3",
   "metadata": {},
   "outputs": [
    {
     "name": "stdout",
     "output_type": "stream",
     "text": [
      "<class 'pandas.core.frame.DataFrame'>\n",
      "Int64Index: 26822 entries, 0 to 28099\n",
      "Data columns (total 5 columns):\n",
      " #   Column             Non-Null Count  Dtype  \n",
      "---  ------             --------------  -----  \n",
      " 0   currentSpeed       26822 non-null  int64  \n",
      " 1   currentTravelTime  26822 non-null  int64  \n",
      " 2   date_time          26822 non-null  object \n",
      " 3   local              26822 non-null  object \n",
      " 4   transito           26822 non-null  float64\n",
      "dtypes: float64(1), int64(2), object(2)\n",
      "memory usage: 1.2+ MB\n"
     ]
    }
   ],
   "source": [
    "df.info()"
   ]
  },
  {
   "cell_type": "code",
   "execution_count": 16,
   "id": "a69ea64a-02fe-4f4a-9e20-a28a0bdbcb48",
   "metadata": {},
   "outputs": [
    {
     "name": "stdout",
     "output_type": "stream",
     "text": [
      "[ 8 47 75 23 24 27 37 29 21  4 31 44 32 36 28 34 42 45 25  6 30 54 13 26\n",
      "  2 43 12 58 20 38 39 53  7 49 72 41  5 18  9 35 33 14 51 17 50 19 56  3\n",
      " 16 40 10 59 11 22 46 55 48 15 57 52 61 64 63 69 65 74 60 62 67  1]\n",
      "[ 45 137  34  61 160 194  92 133  46  29 110 146  67 164 107 100 153  86\n",
      "  39 169  19 113  47 108 181 149  36  58 150 132 106 117  66  42  70 101\n",
      "  25 121 120  50 104  33  16  69  89  93  23 103 125  91  52   8  71  56\n",
      "   6  38  12  14  97  87 131 114 126  82  73  94 128 129  74 115 187 159\n",
      " 154  90  98  88 102   9  96  40  11  32  99  54 136 175  78 189 179 116\n",
      " 156 109  10  48 155  31  37  84 162 140 234  57 170 201 142 183 148 202\n",
      " 213 157 281 210 143 134 352 167 219 469  65 165 250 192 161 239  51 174\n",
      " 263  44 274 176 292 228 111 124 105  60 138  43 242 309 277 222 215 190\n",
      " 200 193 227 269 119  72  85  83 276 568 350 147 243 226 240 256 328  49\n",
      " 262 204 168 375]\n",
      "['Avenida da Liberdade' 'Braga Parque' 'Centro comercial Minho Center'\n",
      " 'Estação de Comboios' 'Meliá' 'Rotunda Santos da Cunha' 'Bosh'\n",
      " 'Hospital Privado de Braga' 'Real Taberna' 'Sé de Braga']\n",
      "[0.         0.34879359 0.36088342 0.54858491 0.35640648 0.24744898\n",
      " 0.5018797  0.4590301  0.8137931  0.55590278 0.37003711 0.39726027\n",
      " 0.43263413 0.2195122  0.36645352 0.27337858 0.75431034 0.48161665\n",
      " 0.30806122 0.43190249 0.22834804 0.35053981 0.2611299  0.6754386\n",
      " 0.38856782 0.35691431 0.27343301 0.63888889 0.53649237 0.30945804\n",
      " 0.55438556 0.30662393 0.87715517 0.41214612 0.45368782 0.34799769\n",
      " 0.66666667 0.39974937 0.41945946 0.44365079 0.296663   0.35435606\n",
      " 0.66563467 0.27334994 0.39811321 0.22111111 0.34851552 0.23963317\n",
      " 0.61805556 0.22611077 0.72250639 0.31274721 0.34808947 0.20816919\n",
      " 0.26975052 0.24264706 0.20529026 0.32287645 0.51315789 0.55042017\n",
      " 0.26943729 0.17111256 0.28238776 0.28507379 0.39449786 0.38124396\n",
      " 0.32831385 0.3285057  0.61055556 0.69157609 0.41742287 0.30147858\n",
      " 0.53856295 0.38814103 0.37928082 0.20548909 0.27864875 0.5\n",
      " 0.43573113 0.33699634 0.32495286 0.48648649 0.36372679 0.2927503\n",
      " 0.73067633 0.23382966 0.52608401 0.33244207 0.76630435 0.50274725\n",
      " 0.24734043 0.19504525 0.83281734 0.17237443 0.55070603 0.18939394\n",
      " 0.26264368 0.24941725 0.48529412 0.26472853 0.28718704 0.55618687\n",
      " 0.24568966 0.18984524 0.40350877 0.40750916 0.33333333 0.25983796\n",
      " 0.37771378 0.60661765 0.22460445 0.30456349 0.404607   0.37980769\n",
      " 0.43700397 0.35897436 0.44949495 0.21323529 0.29548789 0.41728856\n",
      " 0.31158981 0.21463816 0.23795006 0.33045977 0.2967968  0.49122149\n",
      " 0.57518797 0.29083333 0.23864994 0.4725976  0.22475962 0.26843206\n",
      " 0.18570402 0.26393189 0.2140611  0.23611111 0.24764151 0.43315508\n",
      " 0.62466931 0.48045802 0.62081081 0.29495614 0.60375931 0.30142883\n",
      " 0.27829787 0.38840996 0.75       0.18454662 0.81414474 0.4149449\n",
      " 0.25526547 0.78544061 0.61338502 0.1820209  0.26201373 0.39444444\n",
      " 0.20297545 0.48317308 0.37647059 0.56349206 0.73798627 0.54180108\n",
      " 0.18887946 0.32882883 0.45068027 0.19172932 0.3200569  0.1993383\n",
      " 0.22871377 0.51316701 0.24325299 0.27777778 0.6483984  0.35023785\n",
      " 0.68398561 0.29751462 0.63078947 0.24502924 0.57275132 0.68421053\n",
      " 0.61803445 0.7218254  0.31142241 0.25658351 0.8419928  0.27664399\n",
      " 0.56275304 0.3784749  0.4809025  0.81585494 0.62828947 0.82070417\n",
      " 0.58919961 0.5205518  0.34888438 0.62808193 0.61938296 0.43892331\n",
      " 0.47642544 0.86481677 0.46434587 0.39036005 0.54391371 0.33457711\n",
      " 0.88904672 0.54995891 0.42889759 0.53647215 0.92910448 0.5972973\n",
      " 0.46621005 0.50980392 0.48790244 0.54755254 0.41992803 0.58455565\n",
      " 0.62991898 0.5016129  0.45954339 0.80049751 0.47658896 0.50490196\n",
      " 0.59227331 0.52426218 0.43385781 0.73653767 0.37334071 0.42474707\n",
      " 0.79516317 0.56130972 0.37064579 0.74322344 0.77890467 0.22767145\n",
      " 0.41748366 0.87522242 0.43881044 0.475      0.33176101 0.36491418\n",
      " 0.83772234 0.46501428 0.78393735 0.37833442 0.28571429 0.56787469\n",
      " 0.24162162 0.31372549 0.26388889 0.20634333 0.22020851 0.28899691\n",
      " 0.32075472 0.27923538 0.34287467 0.41722459 0.57869142 0.38389155\n",
      " 0.49362973 0.46875862 0.45607018 0.42643541 0.87298851 0.43830651\n",
      " 0.9092775  0.45830116 0.48556536 0.20991432 0.52539566 0.57924641\n",
      " 0.53369938 0.5881345  0.67544468 0.53774929 0.57697368 0.72915058\n",
      " 0.36066121 0.22100122 0.75658351 0.4581743  0.16666667 0.4713351\n",
      " 0.16314416 0.48997494 0.25       0.51949025 0.62284483 0.15257937\n",
      " 0.464701   0.47327621 0.47855392 0.20600251 0.3162906  0.2472193\n",
      " 0.22990911 0.56134692 0.50800915 0.53631352 0.71458087 0.53167641\n",
      " 0.4047575  0.37102589 0.63661462 0.56900711 0.39175014 0.65765107\n",
      " 0.59535368 0.74221153 0.60810811 0.33953609 0.51198679 0.65763126\n",
      " 0.6788206  0.59497172 0.83333333 0.73868717 0.54701754 0.64541667\n",
      " 0.55701754 0.57710449 0.80789474 0.67285314 0.5210897  0.65994193\n",
      " 0.61383573 0.84210526 0.46566625 0.54827973 0.73010926 0.8377193\n",
      " 0.67204767 0.45206767 0.67357294 0.60516548 0.58986939 0.48167293\n",
      " 0.81087804 0.3408348  0.26563178 0.59862337 0.66077315 0.45273547\n",
      " 0.22174447 0.4047619  0.37171053 0.21059113 0.26038909 0.19097222\n",
      " 0.21227477 0.36226699 0.71428571 0.52597841 0.42705167 0.23404255\n",
      " 0.21131783 0.13256757 0.1371206  0.05427898 0.12164384 0.11035008\n",
      " 0.17308515 0.57157953 0.31446039 0.40920984 0.55437352 0.29942161\n",
      " 0.31995183 0.24285289 0.39827586 0.4485951  0.43346596 0.51207591\n",
      " 0.19222069 0.21329611 0.38379705 0.23708709 0.41507963 0.20501245\n",
      " 0.23517628 0.25881316 0.25779656 0.34294004 0.14334638 0.16744548\n",
      " 0.46933667 0.1912503  0.21507863 0.25652555 0.19505495 0.17782614\n",
      " 0.49115972 0.15226554 0.59675502 0.58284314 0.15194229 0.20226878\n",
      " 0.37559524 0.77207792 0.31016731 0.7362782  0.47307533 0.14520582\n",
      " 0.62850748 0.08276256 0.59175084 0.57546934 0.14650407 0.30950653\n",
      " 0.59297719 0.53219801 0.54736025 0.38107025 0.7629892  0.49176189\n",
      " 0.79128857 0.44463869 0.62910053 0.27322925 0.5621142  0.32247899\n",
      " 0.67476286 0.45194508 0.76923077 0.52720588 0.16978144 0.6949564\n",
      " 0.54625668 0.89272031 0.18206435 0.89196867 0.8718405  0.53640862\n",
      " 0.86964176 0.85739705 0.47434641 0.80576285 0.63421603 0.51197991\n",
      " 0.91144201 0.62382075 0.58170297 0.56028328 0.7132177  0.37631119\n",
      " 0.45141066 0.28986184 0.63425379 0.55718954 0.36609515 0.85021368\n",
      " 0.31644898 0.86116054 0.70291385 0.71073191 0.9270557  0.25255102\n",
      " 0.1764261  0.15738285 0.50170068 0.32859915 0.36269841 0.38408851\n",
      " 0.50981902 0.64159624 0.52105329 0.56745001 0.45614597 0.67465786\n",
      " 0.52885683 0.35006807 0.56496164 0.60858063 0.42638221 0.22070015\n",
      " 0.51131222 0.64747307 0.57552589 0.26958892 0.52518116 0.70291568\n",
      " 0.66740413 0.63914894 0.69407051 0.5355027  0.61032389 0.2978422\n",
      " 0.56879648 0.88603896 0.92108069 0.72243924 0.62797788 0.6483315\n",
      " 0.82881563 0.87973485 0.48334236 0.27240297 0.30170987 0.3278451\n",
      " 0.31540541 0.28772523 0.28669276 0.19924576 0.67503404 0.55277778\n",
      " 0.1323028  0.36803714 0.44487847 0.63021739 0.33685785 0.55799756\n",
      " 0.71786557 0.61004237 0.46392489 0.48934734 0.73566755 0.42212121\n",
      " 0.47285012 0.5225     0.44590291 0.44582471 0.54374191 0.35104881\n",
      " 0.55420507 0.61758814 0.57829356 0.65660175 0.19238856 0.57446219\n",
      " 0.63378685 0.67444219 0.64267209 0.40756824 0.70175439 0.46254209\n",
      " 0.69629484 0.69487847 0.4594697  0.58555628 0.21036136 0.40472222\n",
      " 0.66117459 0.41048535 0.30330087 0.42916175 0.59586466 0.6990566\n",
      " 0.65157258 0.23771368 0.29265873 0.57142857 0.69133921 0.52366947\n",
      " 0.71338834 0.60482558 0.77809343 0.65860163 0.69194577 0.62535714\n",
      " 0.72570533 0.65556157 0.55839938 0.84615385 0.26417585 0.32002757\n",
      " 0.37386364]\n"
     ]
    }
   ],
   "source": [
    "print(df['currentSpeed'].unique())\n",
    "print(df['currentTravelTime'].unique())\n",
    "print(df['local'].unique())\n",
    "print(df['transito'].unique())"
   ]
  },
  {
   "cell_type": "code",
   "execution_count": 17,
   "id": "ec0c4b03-aed5-4fa5-8b7c-4657ae091ff8",
   "metadata": {},
   "outputs": [],
   "source": [
    "'''\n",
    "Preparação e tratamento de dados\n",
    "'''\n",
    "\n",
    "#currentSpeed\n",
    "#currentTravelTime\n",
    "\n",
    "#date_time\n",
    "    #separar data\n",
    "df['date_time'] = df['date_time'].str.replace(\"_\", \" \")\n",
    "#df['year'] = pd.to_datetime(df['date_time']).dt.year\n",
    "df['month'] = pd.to_datetime(df['date_time']).dt.month\n",
    "df['day'] = pd.to_datetime(df['date_time']).dt.day\n",
    "    #weekday mete logo em int, segunda=0 e domingo=6\n",
    "df['week_day'] = pd.to_datetime(df['date_time']).dt.weekday\n",
    "df['hour'] = pd.to_datetime(df['date_time']).dt.hour\n",
    "df['minute'] = pd.to_datetime(df['date_time']).dt.minute\n",
    "\n",
    "    #dropar date_time\n",
    "df.drop(['date_time'],axis=1, inplace=True)\n",
    "\n",
    "#local\n",
    "    #normalizar\n",
    "df.loc[(df['local']=='Avenida da Liberdade'), ['local']]= 0\n",
    "df.loc[(df['local']=='Braga Parque'), ['local']]= 1\n",
    "df.loc[(df['local']=='Centro comercial Minho Center'), ['local']]=2\n",
    "df.loc[(df['local']=='Estação de Comboios'), ['local']]=3\n",
    "df.loc[(df['local']=='Meliá'), ['local']]=4\n",
    "df.loc[(df['local']=='Rotunda Santos da Cunha'), ['local']]=5\n",
    "df.loc[(df['local']=='Bosh'), ['local']]=6\n",
    "df.loc[(df['local']=='Hospital Privado de Braga'), ['local']]=7\n",
    "df.loc[(df['local']=='Real Taberna'), ['local']]=8\n",
    "df.loc[(df['local']=='Sé de Braga'), ['local']]=9\n",
    "\n",
    "df['local']= df['local'].astype(int)\n",
    "\n",
    "#transito\n",
    "    #arredondar os valores de transito e meter como percentagem int\n",
    "df['transito'] = df['transito'].round(2) * 100;\n",
    "df['transito']= df['transito'].astype(int)"
   ]
  },
  {
   "cell_type": "code",
   "execution_count": 18,
   "id": "a75d342f-fa90-4f67-b674-a67a2b5f948b",
   "metadata": {},
   "outputs": [
    {
     "data": {
      "text/html": [
       "<div>\n",
       "<style scoped>\n",
       "    .dataframe tbody tr th:only-of-type {\n",
       "        vertical-align: middle;\n",
       "    }\n",
       "\n",
       "    .dataframe tbody tr th {\n",
       "        vertical-align: top;\n",
       "    }\n",
       "\n",
       "    .dataframe thead th {\n",
       "        text-align: right;\n",
       "    }\n",
       "</style>\n",
       "<table border=\"1\" class=\"dataframe\">\n",
       "  <thead>\n",
       "    <tr style=\"text-align: right;\">\n",
       "      <th></th>\n",
       "      <th>currentSpeed</th>\n",
       "      <th>currentTravelTime</th>\n",
       "      <th>local</th>\n",
       "      <th>transito</th>\n",
       "      <th>month</th>\n",
       "      <th>day</th>\n",
       "      <th>week_day</th>\n",
       "      <th>hour</th>\n",
       "      <th>minute</th>\n",
       "    </tr>\n",
       "  </thead>\n",
       "  <tbody>\n",
       "    <tr>\n",
       "      <th>0</th>\n",
       "      <td>8</td>\n",
       "      <td>45</td>\n",
       "      <td>0</td>\n",
       "      <td>0</td>\n",
       "      <td>4</td>\n",
       "      <td>6</td>\n",
       "      <td>2</td>\n",
       "      <td>17</td>\n",
       "      <td>50</td>\n",
       "    </tr>\n",
       "    <tr>\n",
       "      <th>1</th>\n",
       "      <td>47</td>\n",
       "      <td>137</td>\n",
       "      <td>1</td>\n",
       "      <td>35</td>\n",
       "      <td>4</td>\n",
       "      <td>6</td>\n",
       "      <td>2</td>\n",
       "      <td>17</td>\n",
       "      <td>50</td>\n",
       "    </tr>\n",
       "    <tr>\n",
       "      <th>2</th>\n",
       "      <td>75</td>\n",
       "      <td>34</td>\n",
       "      <td>2</td>\n",
       "      <td>0</td>\n",
       "      <td>4</td>\n",
       "      <td>6</td>\n",
       "      <td>2</td>\n",
       "      <td>17</td>\n",
       "      <td>50</td>\n",
       "    </tr>\n",
       "    <tr>\n",
       "      <th>3</th>\n",
       "      <td>23</td>\n",
       "      <td>61</td>\n",
       "      <td>3</td>\n",
       "      <td>36</td>\n",
       "      <td>4</td>\n",
       "      <td>6</td>\n",
       "      <td>2</td>\n",
       "      <td>17</td>\n",
       "      <td>50</td>\n",
       "    </tr>\n",
       "    <tr>\n",
       "      <th>4</th>\n",
       "      <td>24</td>\n",
       "      <td>160</td>\n",
       "      <td>4</td>\n",
       "      <td>55</td>\n",
       "      <td>4</td>\n",
       "      <td>6</td>\n",
       "      <td>2</td>\n",
       "      <td>17</td>\n",
       "      <td>50</td>\n",
       "    </tr>\n",
       "  </tbody>\n",
       "</table>\n",
       "</div>"
      ],
      "text/plain": [
       "   currentSpeed  currentTravelTime  local  transito  month  day  week_day  \\\n",
       "0             8                 45      0         0      4    6         2   \n",
       "1            47                137      1        35      4    6         2   \n",
       "2            75                 34      2         0      4    6         2   \n",
       "3            23                 61      3        36      4    6         2   \n",
       "4            24                160      4        55      4    6         2   \n",
       "\n",
       "   hour  minute  \n",
       "0    17      50  \n",
       "1    17      50  \n",
       "2    17      50  \n",
       "3    17      50  \n",
       "4    17      50  "
      ]
     },
     "execution_count": 18,
     "metadata": {},
     "output_type": "execute_result"
    }
   ],
   "source": [
    "#dados corrigidos\n",
    "df.head()"
   ]
  },
  {
   "cell_type": "markdown",
   "id": "7e4a26ec-7735-43af-9fe4-f6e074106f56",
   "metadata": {},
   "source": [
    "ALGORITMO DECISION TREE"
   ]
  },
  {
   "cell_type": "code",
   "execution_count": 19,
   "id": "15b753a0-3626-4a45-aaef-ee6d97028e5e",
   "metadata": {},
   "outputs": [],
   "source": [
    "#nós queremos a previsão de transito, logo temos de mete-lo no target\n",
    "X = df.drop('transito',axis=1)\n",
    "# Putting response variable to y\n",
    "y = df['transito']"
   ]
  },
  {
   "cell_type": "code",
   "execution_count": 20,
   "id": "867d3fa3-ea70-4c75-b362-38f47c9fc45c",
   "metadata": {},
   "outputs": [
    {
     "data": {
      "text/plain": [
       "((26822, 8), (18775, 8), (8047, 8))"
      ]
     },
     "execution_count": 20,
     "metadata": {},
     "output_type": "execute_result"
    }
   ],
   "source": [
    "X_train, X_test, y_train, y_test = train_test_split(X, y, test_size=0.3, random_state=42)\n",
    "X.shape, X_train.shape, X_test.shape"
   ]
  },
  {
   "cell_type": "code",
   "execution_count": 46,
   "id": "018d6f74-ed18-453c-825f-7ccfde63b3ac",
   "metadata": {},
   "outputs": [],
   "source": [
    "clf = DecisionTreeClassifier()\n",
    "clf = clf.fit(X_train,y_train)\n",
    "y_pred = clf.predict(X_test)"
   ]
  },
  {
   "cell_type": "code",
   "execution_count": 47,
   "id": "52d54d80-4d41-4db2-bd6c-daf03d0cd8c9",
   "metadata": {},
   "outputs": [
    {
     "name": "stdout",
     "output_type": "stream",
     "text": [
      "Accuracy: 0.9009568783397539\n"
     ]
    }
   ],
   "source": [
    "print(\"Accuracy:\", accuracy_score(y_test, y_pred))"
   ]
  }
 ],
 "metadata": {
  "kernelspec": {
   "display_name": "Python 3 (ipykernel)",
   "language": "python",
   "name": "python3"
  },
  "language_info": {
   "codemirror_mode": {
    "name": "ipython",
    "version": 3
   },
   "file_extension": ".py",
   "mimetype": "text/x-python",
   "name": "python",
   "nbconvert_exporter": "python",
   "pygments_lexer": "ipython3",
   "version": "3.9.7"
  }
 },
 "nbformat": 4,
 "nbformat_minor": 5
}
