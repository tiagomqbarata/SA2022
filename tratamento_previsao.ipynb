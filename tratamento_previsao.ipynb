{
 "cells": [
  {
   "cell_type": "code",
   "execution_count": 1,
   "id": "92dea0fe-1dd0-4b62-a1cc-9974be87205c",
   "metadata": {},
   "outputs": [
    {
     "name": "stdout",
     "output_type": "stream",
     "text": [
      "TensorFlow version: 2.8.0\n"
     ]
    }
   ],
   "source": [
    "import seaborn as sns\n",
    "import matplotlib.pyplot as plt\n",
    "%matplotlib inline\n",
    "from sklearn.datasets import make_blobs\n",
    "import pandas as pd\n",
    "from sklearn.cluster import KMeans\n",
    "from sklearn.model_selection import train_test_split, GridSearchCV\n",
    "from sklearn.tree import DecisionTreeClassifier\n",
    "from sklearn.metrics import classification_report, confusion_matrix, plot_confusion_matrix, accuracy_score\n",
    "import numpy as np\n",
    "from sklearn.svm import SVC\n",
    "from sklearn import preprocessing\n",
    "import tensorflow as tf\n",
    "from tensorflow.keras.models import Sequential\n",
    "from tensorflow.keras.layers import Dense, Dropout, BatchNormalization\n",
    "from tensorflow.keras.wrappers.scikit_learn import KerasRegressor\n",
    "from sklearn.preprocessing import MinMaxScaler\n",
    "print(\"TensorFlow version:\", tf.__version__)"
   ]
  },
  {
   "cell_type": "code",
   "execution_count": 2,
   "id": "580be572-ae48-4fc6-83bc-036579291a9c",
   "metadata": {},
   "outputs": [],
   "source": [
    "df=pd.read_csv('data.csv')"
   ]
  },
  {
   "cell_type": "code",
   "execution_count": 3,
   "id": "e434c998-7baf-4d2c-9ee6-baec2ec58976",
   "metadata": {},
   "outputs": [
    {
     "data": {
      "text/html": [
       "<div>\n",
       "<style scoped>\n",
       "    .dataframe tbody tr th:only-of-type {\n",
       "        vertical-align: middle;\n",
       "    }\n",
       "\n",
       "    .dataframe tbody tr th {\n",
       "        vertical-align: top;\n",
       "    }\n",
       "\n",
       "    .dataframe thead th {\n",
       "        text-align: right;\n",
       "    }\n",
       "</style>\n",
       "<table border=\"1\" class=\"dataframe\">\n",
       "  <thead>\n",
       "    <tr style=\"text-align: right;\">\n",
       "      <th></th>\n",
       "      <th>confidence</th>\n",
       "      <th>currentSpeed</th>\n",
       "      <th>currentTravelTime</th>\n",
       "      <th>freeFlowSpeed</th>\n",
       "      <th>freeFlowTravelTime</th>\n",
       "      <th>latitude</th>\n",
       "      <th>local</th>\n",
       "      <th>longitude</th>\n",
       "      <th>transito</th>\n",
       "      <th>record_date</th>\n",
       "    </tr>\n",
       "  </thead>\n",
       "  <tbody>\n",
       "    <tr>\n",
       "      <th>0</th>\n",
       "      <td>1.00000</td>\n",
       "      <td>8</td>\n",
       "      <td>45</td>\n",
       "      <td>8</td>\n",
       "      <td>45</td>\n",
       "      <td>41.546581</td>\n",
       "      <td>Avenida da Liberdade</td>\n",
       "      <td>-8.420194</td>\n",
       "      <td>0.000000</td>\n",
       "      <td>2022-04-06 17:50:00</td>\n",
       "    </tr>\n",
       "    <tr>\n",
       "      <th>1</th>\n",
       "      <td>1.00000</td>\n",
       "      <td>47</td>\n",
       "      <td>137</td>\n",
       "      <td>72</td>\n",
       "      <td>89</td>\n",
       "      <td>41.557563</td>\n",
       "      <td>Braga Parque</td>\n",
       "      <td>-8.407298</td>\n",
       "      <td>0.348794</td>\n",
       "      <td>2022-04-06 17:50:00</td>\n",
       "    </tr>\n",
       "    <tr>\n",
       "      <th>2</th>\n",
       "      <td>1.00000</td>\n",
       "      <td>75</td>\n",
       "      <td>34</td>\n",
       "      <td>75</td>\n",
       "      <td>34</td>\n",
       "      <td>41.541670</td>\n",
       "      <td>Centro comercial Minho Center</td>\n",
       "      <td>-8.402278</td>\n",
       "      <td>0.000000</td>\n",
       "      <td>2022-04-06 17:50:00</td>\n",
       "    </tr>\n",
       "    <tr>\n",
       "      <th>3</th>\n",
       "      <td>1.00000</td>\n",
       "      <td>23</td>\n",
       "      <td>61</td>\n",
       "      <td>36</td>\n",
       "      <td>39</td>\n",
       "      <td>41.548815</td>\n",
       "      <td>Estação de Comboios</td>\n",
       "      <td>-8.433624</td>\n",
       "      <td>0.360883</td>\n",
       "      <td>2022-04-06 17:50:00</td>\n",
       "    </tr>\n",
       "    <tr>\n",
       "      <th>4</th>\n",
       "      <td>0.98902</td>\n",
       "      <td>24</td>\n",
       "      <td>160</td>\n",
       "      <td>53</td>\n",
       "      <td>72</td>\n",
       "      <td>41.555693</td>\n",
       "      <td>Meliá</td>\n",
       "      <td>-8.399266</td>\n",
       "      <td>0.542561</td>\n",
       "      <td>2022-04-06 17:50:00</td>\n",
       "    </tr>\n",
       "  </tbody>\n",
       "</table>\n",
       "</div>"
      ],
      "text/plain": [
       "   confidence  currentSpeed  currentTravelTime  freeFlowSpeed  \\\n",
       "0     1.00000             8                 45              8   \n",
       "1     1.00000            47                137             72   \n",
       "2     1.00000            75                 34             75   \n",
       "3     1.00000            23                 61             36   \n",
       "4     0.98902            24                160             53   \n",
       "\n",
       "   freeFlowTravelTime   latitude                          local  longitude  \\\n",
       "0                  45  41.546581           Avenida da Liberdade  -8.420194   \n",
       "1                  89  41.557563                   Braga Parque  -8.407298   \n",
       "2                  34  41.541670  Centro comercial Minho Center  -8.402278   \n",
       "3                  39  41.548815            Estação de Comboios  -8.433624   \n",
       "4                  72  41.555693                          Meliá  -8.399266   \n",
       "\n",
       "   transito          record_date  \n",
       "0  0.000000  2022-04-06 17:50:00  \n",
       "1  0.348794  2022-04-06 17:50:00  \n",
       "2  0.000000  2022-04-06 17:50:00  \n",
       "3  0.360883  2022-04-06 17:50:00  \n",
       "4  0.542561  2022-04-06 17:50:00  "
      ]
     },
     "execution_count": 3,
     "metadata": {},
     "output_type": "execute_result"
    }
   ],
   "source": [
    "df.head()"
   ]
  },
  {
   "cell_type": "code",
   "execution_count": 4,
   "id": "6b4c99fc-7fce-4ac6-aa1c-7f5ba162719b",
   "metadata": {},
   "outputs": [
    {
     "data": {
      "text/html": [
       "<div>\n",
       "<style scoped>\n",
       "    .dataframe tbody tr th:only-of-type {\n",
       "        vertical-align: middle;\n",
       "    }\n",
       "\n",
       "    .dataframe tbody tr th {\n",
       "        vertical-align: top;\n",
       "    }\n",
       "\n",
       "    .dataframe thead th {\n",
       "        text-align: right;\n",
       "    }\n",
       "</style>\n",
       "<table border=\"1\" class=\"dataframe\">\n",
       "  <thead>\n",
       "    <tr style=\"text-align: right;\">\n",
       "      <th></th>\n",
       "      <th>confidence</th>\n",
       "      <th>currentSpeed</th>\n",
       "      <th>currentTravelTime</th>\n",
       "      <th>freeFlowSpeed</th>\n",
       "      <th>freeFlowTravelTime</th>\n",
       "      <th>latitude</th>\n",
       "      <th>longitude</th>\n",
       "      <th>transito</th>\n",
       "    </tr>\n",
       "  </thead>\n",
       "  <tbody>\n",
       "    <tr>\n",
       "      <th>count</th>\n",
       "      <td>28100.000000</td>\n",
       "      <td>28100.000000</td>\n",
       "      <td>28100.000000</td>\n",
       "      <td>28100.000000</td>\n",
       "      <td>28100.000000</td>\n",
       "      <td>28100.000000</td>\n",
       "      <td>28100.000000</td>\n",
       "      <td>28100.000000</td>\n",
       "    </tr>\n",
       "    <tr>\n",
       "      <th>mean</th>\n",
       "      <td>0.992826</td>\n",
       "      <td>41.452705</td>\n",
       "      <td>64.676940</td>\n",
       "      <td>44.877936</td>\n",
       "      <td>57.142456</td>\n",
       "      <td>41.546615</td>\n",
       "      <td>-8.422473</td>\n",
       "      <td>0.088425</td>\n",
       "    </tr>\n",
       "    <tr>\n",
       "      <th>std</th>\n",
       "      <td>0.025151</td>\n",
       "      <td>21.444956</td>\n",
       "      <td>40.470082</td>\n",
       "      <td>20.134799</td>\n",
       "      <td>32.903344</td>\n",
       "      <td>0.009469</td>\n",
       "      <td>0.014963</td>\n",
       "      <td>0.179353</td>\n",
       "    </tr>\n",
       "    <tr>\n",
       "      <th>min</th>\n",
       "      <td>0.540000</td>\n",
       "      <td>1.000000</td>\n",
       "      <td>6.000000</td>\n",
       "      <td>6.000000</td>\n",
       "      <td>4.000000</td>\n",
       "      <td>41.527837</td>\n",
       "      <td>-8.446202</td>\n",
       "      <td>0.000000</td>\n",
       "    </tr>\n",
       "    <tr>\n",
       "      <th>25%</th>\n",
       "      <td>1.000000</td>\n",
       "      <td>24.000000</td>\n",
       "      <td>34.000000</td>\n",
       "      <td>37.000000</td>\n",
       "      <td>34.000000</td>\n",
       "      <td>41.541670</td>\n",
       "      <td>-8.433624</td>\n",
       "      <td>0.000000</td>\n",
       "    </tr>\n",
       "    <tr>\n",
       "      <th>50%</th>\n",
       "      <td>1.000000</td>\n",
       "      <td>42.000000</td>\n",
       "      <td>66.000000</td>\n",
       "      <td>42.000000</td>\n",
       "      <td>61.500000</td>\n",
       "      <td>41.547698</td>\n",
       "      <td>-8.424378</td>\n",
       "      <td>0.000000</td>\n",
       "    </tr>\n",
       "    <tr>\n",
       "      <th>75%</th>\n",
       "      <td>1.000000</td>\n",
       "      <td>58.000000</td>\n",
       "      <td>89.000000</td>\n",
       "      <td>58.000000</td>\n",
       "      <td>72.000000</td>\n",
       "      <td>41.555693</td>\n",
       "      <td>-8.407298</td>\n",
       "      <td>0.000000</td>\n",
       "    </tr>\n",
       "    <tr>\n",
       "      <th>max</th>\n",
       "      <td>1.000000</td>\n",
       "      <td>75.000000</td>\n",
       "      <td>568.000000</td>\n",
       "      <td>75.000000</td>\n",
       "      <td>131.000000</td>\n",
       "      <td>41.559359</td>\n",
       "      <td>-8.399266</td>\n",
       "      <td>0.917785</td>\n",
       "    </tr>\n",
       "  </tbody>\n",
       "</table>\n",
       "</div>"
      ],
      "text/plain": [
       "         confidence  currentSpeed  currentTravelTime  freeFlowSpeed  \\\n",
       "count  28100.000000  28100.000000       28100.000000   28100.000000   \n",
       "mean       0.992826     41.452705          64.676940      44.877936   \n",
       "std        0.025151     21.444956          40.470082      20.134799   \n",
       "min        0.540000      1.000000           6.000000       6.000000   \n",
       "25%        1.000000     24.000000          34.000000      37.000000   \n",
       "50%        1.000000     42.000000          66.000000      42.000000   \n",
       "75%        1.000000     58.000000          89.000000      58.000000   \n",
       "max        1.000000     75.000000         568.000000      75.000000   \n",
       "\n",
       "       freeFlowTravelTime      latitude     longitude      transito  \n",
       "count        28100.000000  28100.000000  28100.000000  28100.000000  \n",
       "mean            57.142456     41.546615     -8.422473      0.088425  \n",
       "std             32.903344      0.009469      0.014963      0.179353  \n",
       "min              4.000000     41.527837     -8.446202      0.000000  \n",
       "25%             34.000000     41.541670     -8.433624      0.000000  \n",
       "50%             61.500000     41.547698     -8.424378      0.000000  \n",
       "75%             72.000000     41.555693     -8.407298      0.000000  \n",
       "max            131.000000     41.559359     -8.399266      0.917785  "
      ]
     },
     "execution_count": 4,
     "metadata": {},
     "output_type": "execute_result"
    }
   ],
   "source": [
    "df.describe()"
   ]
  },
  {
   "cell_type": "code",
   "execution_count": 5,
   "id": "b4934ffc-b85c-47b6-b759-61278c118f16",
   "metadata": {},
   "outputs": [
    {
     "data": {
      "text/plain": [
       "Index(['confidence', 'currentSpeed', 'currentTravelTime', 'freeFlowSpeed',\n",
       "       'freeFlowTravelTime', 'latitude', 'local', 'longitude', 'transito',\n",
       "       'record_date'],\n",
       "      dtype='object')"
      ]
     },
     "execution_count": 5,
     "metadata": {},
     "output_type": "execute_result"
    }
   ],
   "source": [
    "df.columns"
   ]
  },
  {
   "cell_type": "code",
   "execution_count": 6,
   "id": "a653abdd-f240-4858-abfd-5b75a218e99d",
   "metadata": {},
   "outputs": [
    {
     "name": "stdout",
     "output_type": "stream",
     "text": [
      "<class 'pandas.core.frame.DataFrame'>\n",
      "RangeIndex: 28100 entries, 0 to 28099\n",
      "Data columns (total 10 columns):\n",
      " #   Column              Non-Null Count  Dtype  \n",
      "---  ------              --------------  -----  \n",
      " 0   confidence          28100 non-null  float64\n",
      " 1   currentSpeed        28100 non-null  int64  \n",
      " 2   currentTravelTime   28100 non-null  int64  \n",
      " 3   freeFlowSpeed       28100 non-null  int64  \n",
      " 4   freeFlowTravelTime  28100 non-null  int64  \n",
      " 5   latitude            28100 non-null  float64\n",
      " 6   local               28100 non-null  object \n",
      " 7   longitude           28100 non-null  float64\n",
      " 8   transito            28100 non-null  float64\n",
      " 9   record_date         28100 non-null  object \n",
      "dtypes: float64(4), int64(4), object(2)\n",
      "memory usage: 2.1+ MB\n"
     ]
    }
   ],
   "source": [
    "df.info()"
   ]
  },
  {
   "cell_type": "code",
   "execution_count": 7,
   "id": "a85e2135-0dc0-422d-babf-2284467c4b1b",
   "metadata": {},
   "outputs": [
    {
     "data": {
      "text/plain": [
       "confidence            28100\n",
       "currentSpeed          28100\n",
       "currentTravelTime     28100\n",
       "freeFlowSpeed         28100\n",
       "freeFlowTravelTime    28100\n",
       "latitude              28100\n",
       "local                 28100\n",
       "longitude             28100\n",
       "transito              28100\n",
       "record_date           28100\n",
       "dtype: int64"
      ]
     },
     "execution_count": 7,
     "metadata": {},
     "output_type": "execute_result"
    }
   ],
   "source": [
    "df.count()"
   ]
  },
  {
   "cell_type": "code",
   "execution_count": 8,
   "id": "2e66d102-eb09-4425-8287-83b46dc32820",
   "metadata": {},
   "outputs": [
    {
     "data": {
      "text/plain": [
       "<AxesSubplot:>"
      ]
     },
     "execution_count": 8,
     "metadata": {},
     "output_type": "execute_result"
    },
    {
     "data": {
      "image/png": "[encoded data removed]",
      "text/plain": [
       "<Figure size 432x288 with 1 Axes>"
      ]
     },
     "metadata": {
      "needs_background": "light"
     },
     "output_type": "display_data"
    }
   ],
   "source": [
    "#Verificar campos em falta ou falta de dados\n",
    "sns.heatmap(df.isnull(),yticklabels=False,cbar=False,cmap='viridis')"
   ]
  },
  {
   "cell_type": "code",
   "execution_count": 9,
   "id": "56c0787e-604f-4c5f-bc23-e1f3c7b95c09",
   "metadata": {},
   "outputs": [],
   "source": [
    "#sns.pairplot(df)"
   ]
  },
  {
   "cell_type": "code",
   "execution_count": 10,
   "id": "70505159-f8cf-4d18-88cd-8db38bb3c334",
   "metadata": {},
   "outputs": [
    {
     "data": {
      "text/plain": [
       "<AxesSubplot:>"
      ]
     },
     "execution_count": 10,
     "metadata": {},
     "output_type": "execute_result"
    },
    {
     "data": {
      "image/png": "[encoded data removed]",
      "text/plain": [
       "<Figure size 576x432 with 2 Axes>"
      ]
     },
     "metadata": {
      "needs_background": "light"
     },
     "output_type": "display_data"
    }
   ],
   "source": [
    "#Correlação\n",
    "corr_matrix=df.corr()\n",
    "f,ax= plt.subplots(figsize=(8,6))\n",
    "sns.heatmap(corr_matrix, vmin=-1, vmax=1, square=True, annot=True)"
   ]
  },
  {
   "cell_type": "markdown",
   "id": "21069bd2-ac84-481a-b8ef-c53632a223d2",
   "metadata": {},
   "source": [
    "TRATAMENTO DOS DADOS"
   ]
  },
  {
   "cell_type": "code",
   "execution_count": 11,
   "id": "e8c81e38-4a5c-4a95-bf7f-848f129a2af3",
   "metadata": {},
   "outputs": [],
   "source": [
    "#Dados inuteis\n",
    "#a latitude e longitude dos locais é sempre a mesma por isso acho que basta termos só o local, temos de normalizar o local depois\n",
    "df.drop(['latitude'],axis=1, inplace=True)\n",
    "df.drop(['longitude'],axis=1, inplace=True)\n",
    "#o mesmo se passa com o freeFlow, é sempre a mesma para o mesmo local e já temos o transito calculado, não nos interessa \n",
    "df.drop(['freeFlowSpeed'],axis=1, inplace=True)\n",
    "df.drop(['freeFlowTravelTime'],axis=1, inplace=True)"
   ]
  },
  {
   "cell_type": "code",
   "execution_count": 12,
   "id": "e7937e62-7a4d-408e-9c6e-b418a4eacfae",
   "metadata": {},
   "outputs": [
    {
     "name": "stdout",
     "output_type": "stream",
     "text": [
      "<class 'pandas.core.frame.DataFrame'>\n",
      "RangeIndex: 28100 entries, 0 to 28099\n",
      "Data columns (total 6 columns):\n",
      " #   Column             Non-Null Count  Dtype  \n",
      "---  ------             --------------  -----  \n",
      " 0   confidence         28100 non-null  float64\n",
      " 1   currentSpeed       28100 non-null  int64  \n",
      " 2   currentTravelTime  28100 non-null  int64  \n",
      " 3   local              28100 non-null  object \n",
      " 4   transito           28100 non-null  float64\n",
      " 5   record_date        28100 non-null  object \n",
      "dtypes: float64(2), int64(2), object(2)\n",
      "memory usage: 1.3+ MB\n"
     ]
    }
   ],
   "source": [
    "df.info()"
   ]
  },
  {
   "cell_type": "code",
   "execution_count": 13,
   "id": "1cb501aa-2a2e-4e20-adff-83f07ca92a7d",
   "metadata": {},
   "outputs": [
    {
     "data": {
      "text/plain": [
       "Int64Index([   42,    54,    68,    76,    77,   149,   228,   238,   239,\n",
       "              279,\n",
       "            ...\n",
       "            27229, 27259, 27318, 27319, 27333, 27348, 27357, 27359, 27388,\n",
       "            27498],\n",
       "           dtype='int64', length=1278)"
      ]
     },
     "execution_count": 13,
     "metadata": {},
     "output_type": "execute_result"
    }
   ],
   "source": [
    "#verificar dados com confiança abaixo da ideal (95%)\n",
    "low_confidence = df[ df['confidence'] < 0.95 ].index\n",
    "low_confidence"
   ]
  },
  {
   "cell_type": "code",
   "execution_count": 14,
   "id": "ac6ae343-7a78-45a7-a833-34eca5c6cb7e",
   "metadata": {},
   "outputs": [],
   "source": [
    "#devemos dropar as linhas com baixa confiança para podermos ter os melhores resultados\n",
    "df.drop(low_confidence , inplace=True)\n",
    "#e podemos já dropar a coluna da confiança que já não nos vai servir para mais nada\n",
    "df.drop(['confidence'],axis=1, inplace=True)"
   ]
  },
  {
   "cell_type": "code",
   "execution_count": 15,
   "id": "64dada18-a80b-4251-86e1-a35fd3a936c3",
   "metadata": {},
   "outputs": [
    {
     "name": "stdout",
     "output_type": "stream",
     "text": [
      "<class 'pandas.core.frame.DataFrame'>\n",
      "Int64Index: 26822 entries, 0 to 28099\n",
      "Data columns (total 5 columns):\n",
      " #   Column             Non-Null Count  Dtype  \n",
      "---  ------             --------------  -----  \n",
      " 0   currentSpeed       26822 non-null  int64  \n",
      " 1   currentTravelTime  26822 non-null  int64  \n",
      " 2   local              26822 non-null  object \n",
      " 3   transito           26822 non-null  float64\n",
      " 4   record_date        26822 non-null  object \n",
      "dtypes: float64(1), int64(2), object(2)\n",
      "memory usage: 1.2+ MB\n"
     ]
    }
   ],
   "source": [
    "df.info()"
   ]
  },
  {
   "cell_type": "code",
   "execution_count": 16,
   "id": "a69ea64a-02fe-4f4a-9e20-a28a0bdbcb48",
   "metadata": {},
   "outputs": [
    {
     "name": "stdout",
     "output_type": "stream",
     "text": [
      "[ 8 47 75 23 24 27 37 29 21  4 31 44 32 36 28 34 42 45 25  6 30 54 13 26\n",
      "  2 43 12 58 20 38 39 53  7 49 72 41  5 18  9 35 33 14 51 17 50 19 56  3\n",
      " 16 40 10 59 11 22 46 55 48 15 57 52 61 64 63 69 65 74 60 62 67  1]\n",
      "[ 45 137  34  61 160 194  92 133  46  29 110 146  67 164 107 100 153  86\n",
      "  39 169  19 113  47 108 181 149  36  58 150 132 106 117  66  42  70 101\n",
      "  25 121 120  50 104  33  16  69  89  93  23 103 125  91  52   8  71  56\n",
      "   6  38  12  14  97  87 131 114 126  82  73  94 128 129  74 115 187 159\n",
      " 154  90  98  88 102   9  96  40  11  32  99  54 136 175  78 189 179 116\n",
      " 156 109  10  48 155  31  37  84 162 140 234  57 170 201 142 183 148 202\n",
      " 213 157 281 210 143 134 352 167 219 469  65 165 250 192 161 239  51 174\n",
      " 263  44 274 176 292 228 111 124 105  60 138  43 242 309 277 222 215 190\n",
      " 200 193 227 269 119  72  85  83 276 568 350 147 243 226 240 256 328  49\n",
      " 262 204 168 375]\n",
      "['Avenida da Liberdade' 'Braga Parque' 'Centro comercial Minho Center'\n",
      " 'Estação de Comboios' 'Meliá' 'Rotunda Santos da Cunha' 'Bosh'\n",
      " 'Hospital Privado de Braga' 'Real Taberna' 'Sé de Braga']\n",
      "[0.         0.34879359 0.36088342 ... 0.24977802 0.83281734 0.91144201]\n"
     ]
    }
   ],
   "source": [
    "print(df['currentSpeed'].unique())\n",
    "print(df['currentTravelTime'].unique())\n",
    "print(df['local'].unique())\n",
    "print(df['transito'].unique())"
   ]
  },
  {
   "cell_type": "code",
   "execution_count": 17,
   "id": "ec0c4b03-aed5-4fa5-8b7c-4657ae091ff8",
   "metadata": {},
   "outputs": [],
   "source": [
    "'''\n",
    "Preparação e tratamento de dados\n",
    "'''\n",
    "\n",
    "#currentSpeed\n",
    "#currentTravelTime\n",
    "\n",
    "#date_time\n",
    "    #separar data\n",
    "#df['date_time'] = df['date_time'].str.replace(\"_\", \" \")\n",
    "#df['year'] = pd.to_datetime(df['date_time']).dt.year\n",
    "df['month'] = pd.to_datetime(df['record_date']).dt.month\n",
    "df['day'] = pd.to_datetime(df['record_date']).dt.day\n",
    "    #weekday mete logo em int, segunda=0 e domingo=6\n",
    "df['week_day'] = pd.to_datetime(df['record_date']).dt.weekday\n",
    "df['hour'] = pd.to_datetime(df['record_date']).dt.hour\n",
    "df['minute'] = pd.to_datetime(df['record_date']).dt.minute\n",
    "\n",
    "    #dropar date_time\n",
    "df.drop(['record_date'],axis=1, inplace=True)\n",
    "\n",
    "#local\n",
    "    #normalizar\n",
    "df.loc[(df['local']=='Avenida da Liberdade'), ['local']]= 0\n",
    "df.loc[(df['local']=='Braga Parque'), ['local']]= 1\n",
    "df.loc[(df['local']=='Centro comercial Minho Center'), ['local']]=2\n",
    "df.loc[(df['local']=='Estação de Comboios'), ['local']]=3\n",
    "df.loc[(df['local']=='Meliá'), ['local']]=4\n",
    "df.loc[(df['local']=='Rotunda Santos da Cunha'), ['local']]=5\n",
    "df.loc[(df['local']=='Bosh'), ['local']]=6\n",
    "df.loc[(df['local']=='Hospital Privado de Braga'), ['local']]=7\n",
    "df.loc[(df['local']=='Real Taberna'), ['local']]=8\n",
    "df.loc[(df['local']=='Sé de Braga'), ['local']]=9\n",
    "\n",
    "df['local']= df['local'].astype(int)\n",
    "\n",
    "#transito\n",
    "    #arredondar os valores de transito e meter como percentagem int\n",
    "df['transito'] = df['transito'].round(2) * 100;\n",
    "df['transito']= df['transito'].astype(int)"
   ]
  },
  {
   "cell_type": "code",
   "execution_count": 32,
   "id": "a75d342f-fa90-4f67-b674-a67a2b5f948b",
   "metadata": {},
   "outputs": [
    {
     "data": {
      "text/html": [
       "<div>\n",
       "<style scoped>\n",
       "    .dataframe tbody tr th:only-of-type {\n",
       "        vertical-align: middle;\n",
       "    }\n",
       "\n",
       "    .dataframe tbody tr th {\n",
       "        vertical-align: top;\n",
       "    }\n",
       "\n",
       "    .dataframe thead th {\n",
       "        text-align: right;\n",
       "    }\n",
       "</style>\n",
       "<table border=\"1\" class=\"dataframe\">\n",
       "  <thead>\n",
       "    <tr style=\"text-align: right;\">\n",
       "      <th></th>\n",
       "      <th>currentSpeed</th>\n",
       "      <th>currentTravelTime</th>\n",
       "      <th>local</th>\n",
       "      <th>transito</th>\n",
       "      <th>month</th>\n",
       "      <th>day</th>\n",
       "      <th>week_day</th>\n",
       "      <th>hour</th>\n",
       "      <th>minute</th>\n",
       "    </tr>\n",
       "  </thead>\n",
       "  <tbody>\n",
       "    <tr>\n",
       "      <th>0</th>\n",
       "      <td>8</td>\n",
       "      <td>45</td>\n",
       "      <td>0</td>\n",
       "      <td>0</td>\n",
       "      <td>4</td>\n",
       "      <td>6</td>\n",
       "      <td>2</td>\n",
       "      <td>17</td>\n",
       "      <td>50</td>\n",
       "    </tr>\n",
       "    <tr>\n",
       "      <th>1</th>\n",
       "      <td>47</td>\n",
       "      <td>137</td>\n",
       "      <td>1</td>\n",
       "      <td>35</td>\n",
       "      <td>4</td>\n",
       "      <td>6</td>\n",
       "      <td>2</td>\n",
       "      <td>17</td>\n",
       "      <td>50</td>\n",
       "    </tr>\n",
       "    <tr>\n",
       "      <th>2</th>\n",
       "      <td>75</td>\n",
       "      <td>34</td>\n",
       "      <td>2</td>\n",
       "      <td>0</td>\n",
       "      <td>4</td>\n",
       "      <td>6</td>\n",
       "      <td>2</td>\n",
       "      <td>17</td>\n",
       "      <td>50</td>\n",
       "    </tr>\n",
       "    <tr>\n",
       "      <th>3</th>\n",
       "      <td>23</td>\n",
       "      <td>61</td>\n",
       "      <td>3</td>\n",
       "      <td>36</td>\n",
       "      <td>4</td>\n",
       "      <td>6</td>\n",
       "      <td>2</td>\n",
       "      <td>17</td>\n",
       "      <td>50</td>\n",
       "    </tr>\n",
       "    <tr>\n",
       "      <th>4</th>\n",
       "      <td>24</td>\n",
       "      <td>160</td>\n",
       "      <td>4</td>\n",
       "      <td>54</td>\n",
       "      <td>4</td>\n",
       "      <td>6</td>\n",
       "      <td>2</td>\n",
       "      <td>17</td>\n",
       "      <td>50</td>\n",
       "    </tr>\n",
       "    <tr>\n",
       "      <th>...</th>\n",
       "      <td>...</td>\n",
       "      <td>...</td>\n",
       "      <td>...</td>\n",
       "      <td>...</td>\n",
       "      <td>...</td>\n",
       "      <td>...</td>\n",
       "      <td>...</td>\n",
       "      <td>...</td>\n",
       "      <td>...</td>\n",
       "    </tr>\n",
       "    <tr>\n",
       "      <th>28095</th>\n",
       "      <td>53</td>\n",
       "      <td>72</td>\n",
       "      <td>4</td>\n",
       "      <td>0</td>\n",
       "      <td>4</td>\n",
       "      <td>26</td>\n",
       "      <td>1</td>\n",
       "      <td>6</td>\n",
       "      <td>0</td>\n",
       "    </tr>\n",
       "    <tr>\n",
       "      <th>28096</th>\n",
       "      <td>42</td>\n",
       "      <td>125</td>\n",
       "      <td>5</td>\n",
       "      <td>0</td>\n",
       "      <td>4</td>\n",
       "      <td>26</td>\n",
       "      <td>1</td>\n",
       "      <td>6</td>\n",
       "      <td>0</td>\n",
       "    </tr>\n",
       "    <tr>\n",
       "      <th>28097</th>\n",
       "      <td>18</td>\n",
       "      <td>6</td>\n",
       "      <td>9</td>\n",
       "      <td>0</td>\n",
       "      <td>4</td>\n",
       "      <td>26</td>\n",
       "      <td>1</td>\n",
       "      <td>6</td>\n",
       "      <td>0</td>\n",
       "    </tr>\n",
       "    <tr>\n",
       "      <th>28098</th>\n",
       "      <td>58</td>\n",
       "      <td>66</td>\n",
       "      <td>7</td>\n",
       "      <td>0</td>\n",
       "      <td>4</td>\n",
       "      <td>26</td>\n",
       "      <td>1</td>\n",
       "      <td>6</td>\n",
       "      <td>0</td>\n",
       "    </tr>\n",
       "    <tr>\n",
       "      <th>28099</th>\n",
       "      <td>39</td>\n",
       "      <td>25</td>\n",
       "      <td>8</td>\n",
       "      <td>0</td>\n",
       "      <td>4</td>\n",
       "      <td>26</td>\n",
       "      <td>1</td>\n",
       "      <td>6</td>\n",
       "      <td>0</td>\n",
       "    </tr>\n",
       "  </tbody>\n",
       "</table>\n",
       "<p>26822 rows × 9 columns</p>\n",
       "</div>"
      ],
      "text/plain": [
       "       currentSpeed  currentTravelTime  local  transito  month  day  week_day  \\\n",
       "0                 8                 45      0         0      4    6         2   \n",
       "1                47                137      1        35      4    6         2   \n",
       "2                75                 34      2         0      4    6         2   \n",
       "3                23                 61      3        36      4    6         2   \n",
       "4                24                160      4        54      4    6         2   \n",
       "...             ...                ...    ...       ...    ...  ...       ...   \n",
       "28095            53                 72      4         0      4   26         1   \n",
       "28096            42                125      5         0      4   26         1   \n",
       "28097            18                  6      9         0      4   26         1   \n",
       "28098            58                 66      7         0      4   26         1   \n",
       "28099            39                 25      8         0      4   26         1   \n",
       "\n",
       "       hour  minute  \n",
       "0        17      50  \n",
       "1        17      50  \n",
       "2        17      50  \n",
       "3        17      50  \n",
       "4        17      50  \n",
       "...     ...     ...  \n",
       "28095     6       0  \n",
       "28096     6       0  \n",
       "28097     6       0  \n",
       "28098     6       0  \n",
       "28099     6       0  \n",
       "\n",
       "[26822 rows x 9 columns]"
      ]
     },
     "execution_count": 32,
     "metadata": {},
     "output_type": "execute_result"
    }
   ],
   "source": [
    "#dados corrigidos\n",
    "#df.head()\n",
    "df"
   ]
  },
  {
   "cell_type": "markdown",
   "id": "7e4a26ec-7735-43af-9fe4-f6e074106f56",
   "metadata": {},
   "source": [
    "ALGORITMO DECISION TREE"
   ]
  },
  {
   "cell_type": "code",
   "execution_count": 19,
   "id": "15b753a0-3626-4a45-aaef-ee6d97028e5e",
   "metadata": {},
   "outputs": [],
   "source": [
    "#nós queremos a previsão de transito, logo temos de mete-lo no target\n",
    "X = df.drop('transito',axis=1)\n",
    "# Putting response variable to y\n",
    "y = df['transito']"
   ]
  },
  {
   "cell_type": "code",
   "execution_count": 20,
   "id": "867d3fa3-ea70-4c75-b362-38f47c9fc45c",
   "metadata": {},
   "outputs": [
    {
     "data": {
      "text/plain": [
       "((26822, 8), (18775, 8), (8047, 8))"
      ]
     },
     "execution_count": 20,
     "metadata": {},
     "output_type": "execute_result"
    }
   ],
   "source": [
    "X_train, X_test, y_train, y_test = train_test_split(X, y, test_size=0.3, random_state=42)\n",
    "X.shape, X_train.shape, X_test.shape"
   ]
  },
  {
   "cell_type": "code",
   "execution_count": 21,
   "id": "018d6f74-ed18-453c-825f-7ccfde63b3ac",
   "metadata": {},
   "outputs": [],
   "source": [
    "clf = DecisionTreeClassifier()\n",
    "clf = clf.fit(X_train,y_train)\n",
    "y_pred = clf.predict(X_test)"
   ]
  },
  {
   "cell_type": "code",
   "execution_count": 22,
   "id": "52d54d80-4d41-4db2-bd6c-daf03d0cd8c9",
   "metadata": {},
   "outputs": [
    {
     "name": "stdout",
     "output_type": "stream",
     "text": [
      "Accuracy: 0.8770970548030322\n"
     ]
    }
   ],
   "source": [
    "print(\"Accuracy:\", accuracy_score(y_test, y_pred))"
   ]
  },
  {
   "cell_type": "code",
   "execution_count": 26,
   "id": "6c3497b6-e54a-4845-9372-00b4c3d478a6",
   "metadata": {},
   "outputs": [],
   "source": [
    "params = {'max_leaf_nodes': list(range(2, 100)), \n",
    "          'min_samples_split': [2, 3, 4]}\n"
   ]
  },
  {
   "cell_type": "code",
   "execution_count": 27,
   "id": "84b9b426-e9c9-40dd-acef-2d3562945113",
   "metadata": {},
   "outputs": [],
   "source": [
    "grid_search_cv = GridSearchCV(DecisionTreeClassifier(random_state=42), params, verbose=1, cv=3)"
   ]
  },
  {
   "cell_type": "code",
   "execution_count": 28,
   "id": "8a4545e6-0cf0-4cfe-aeb1-4cc1d9033467",
   "metadata": {},
   "outputs": [
    {
     "name": "stdout",
     "output_type": "stream",
     "text": [
      "Fitting 3 folds for each of 294 candidates, totalling 882 fits\n"
     ]
    },
    {
     "name": "stderr",
     "output_type": "stream",
     "text": [
      "C:\\Users\\gonca\\anaconda3\\lib\\site-packages\\sklearn\\model_selection\\_split.py:666: UserWarning: The least populated class in y has only 1 members, which is less than n_splits=3.\n",
      "  warnings.warn((\"The least populated class in y has only %d\"\n"
     ]
    },
    {
     "data": {
      "text/plain": [
       "GridSearchCV(cv=3, estimator=DecisionTreeClassifier(random_state=42),\n",
       "             param_grid={'max_leaf_nodes': [2, 3, 4, 5, 6, 7, 8, 9, 10, 11, 12,\n",
       "                                            13, 14, 15, 16, 17, 18, 19, 20, 21,\n",
       "                                            22, 23, 24, 25, 26, 27, 28, 29, 30,\n",
       "                                            31, ...],\n",
       "                         'min_samples_split': [2, 3, 4]},\n",
       "             verbose=1)"
      ]
     },
     "execution_count": 28,
     "metadata": {},
     "output_type": "execute_result"
    }
   ],
   "source": [
    "grid_search_cv.fit(X_train, y_train)"
   ]
  },
  {
   "cell_type": "code",
   "execution_count": 29,
   "id": "3cc569e1-842a-455a-b735-5f632b74a9cd",
   "metadata": {},
   "outputs": [
    {
     "data": {
      "text/plain": [
       "DecisionTreeClassifier(max_leaf_nodes=99, random_state=42)"
      ]
     },
     "execution_count": 29,
     "metadata": {},
     "output_type": "execute_result"
    }
   ],
   "source": [
    "grid_search_cv.best_estimator_"
   ]
  },
  {
   "cell_type": "code",
   "execution_count": 31,
   "id": "d8ce3ed6-17c1-4b9f-a815-e25460fd4306",
   "metadata": {},
   "outputs": [
    {
     "data": {
      "text/plain": [
       "0.8798935796435235"
      ]
     },
     "execution_count": 31,
     "metadata": {},
     "output_type": "execute_result"
    }
   ],
   "source": [
    "grid_search_cv.best_score_"
   ]
  }
 ],
 "metadata": {
  "kernelspec": {
   "display_name": "Python 3 (ipykernel)",
   "language": "python",
   "name": "python3"
  },
  "language_info": {
   "codemirror_mode": {
    "name": "ipython",
    "version": 3
   },
   "file_extension": ".py",
   "mimetype": "text/x-python",
   "name": "python",
   "nbconvert_exporter": "python",
   "pygments_lexer": "ipython3",
   "version": "3.9.7"
  }
 },
 "nbformat": 4,
 "nbformat_minor": 5
}
